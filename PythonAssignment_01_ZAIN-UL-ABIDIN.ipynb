{
 "cells": [
  {
   "cell_type": "markdown",
   "id": "f8fd30b4-973e-4523-9fa3-bc5ccecbaffe",
   "metadata": {},
   "source": [
    "# Assignment_01"
   ]
  },
  {
   "cell_type": "code",
   "execution_count": 12,
   "id": "f81ae8e0-8746-475a-b00f-8ec36d848152",
   "metadata": {},
   "outputs": [
    {
     "name": "stdout",
     "output_type": "stream",
     "text": [
      "age is  25\n",
      "name is  John\n",
      "is a student  True\n"
     ]
    }
   ],
   "source": [
    "### Task 1_a. Create three variables: one for storing your age (integer), one for your name (string), \n",
    "### and one to check if you are a student (Boolean). Print the variables.\n",
    "age = 25\n",
    "name = 'John'\n",
    "is_student = True\n",
    "# printing variables\n",
    "print('age is ',age)\n",
    "print('name is ',name)\n",
    "print('is a student ', is_student)\n"
   ]
  },
  {
   "cell_type": "code",
   "execution_count": 13,
   "id": "94aeffd9-71fc-4ffc-9228-b8caf2c5b3c2",
   "metadata": {},
   "outputs": [
    {
     "name": "stdout",
     "output_type": "stream",
     "text": [
      "Now age is  50\n",
      "full name is John Smith\n",
      "is a student False\n"
     ]
    }
   ],
   "source": [
    "### task 1_b. Add 25 to your age variable, Concatenate your name with the string \"Smith\", Negate the Boolean variable \n",
    "#(if True, make it False, and vice versa).\n",
    "\n",
    "age = age + 25\n",
    "name = name + ' Smith'\n",
    "is_student = not is_student\n",
    "\n",
    "print('Now age is ', age)\n",
    "print('full name is', name)\n",
    "print('is a student', is_student)"
   ]
  },
  {
   "cell_type": "code",
   "execution_count": 26,
   "id": "82a350ac-4751-4802-9dcf-63f6fe18190a",
   "metadata": {},
   "outputs": [
    {
     "name": "stdout",
     "output_type": "stream",
     "text": [
      "Area of the recangle is 17.875\n",
      "\n",
      "Temprature in fahrenheit is 105.8\n",
      "\n",
      "Area of the circle is  78.53975\n"
     ]
    }
   ],
   "source": [
    "### Task 2_a. A rectangle has a width of 5.5 units and a height of 3.25 units. Store width and height in variables. \n",
    "# Create a new variable called area and write an expression to calculate the area. Print the area in the output. \n",
    "width = 5.5\n",
    "height = 3.25\n",
    "area = width*height\n",
    "print('Area of the recangle is', area)\n",
    "print()\n",
    "### Task_2b. Create a temperature variable in Celsius. Convert it to Fahrenheit using the formula: F = (C * 9/5) + 32.\n",
    "# Store this temperature in a variable called Fahrenheit and print this variable.\n",
    "\n",
    "temprature_celsius = 41\n",
    "temprature_fahrenheit = temprature_celsius*(9/5) + 32\n",
    "print('Temprature in fahrenheit is',temprature_fahrenheit)\n",
    "print()\n",
    "### Task_2c. Create a variable called radius and give it a value of 5. Calculate the area of a circle with this radius and store it in \n",
    "# a variable called area. Print area at the end of your code. \n",
    "#(Use the formula: area = π * radius^2, where π (pi) is approximately 3.14159).\n",
    "\n",
    "radius = 5\n",
    "area = 3.14159*(radius**2)\n",
    "print('Area of the circle is ', area)"
   ]
  },
  {
   "cell_type": "code",
   "execution_count": 25,
   "id": "92aa22a7-e81d-49e7-85a6-e5267f5d310b",
   "metadata": {},
   "outputs": [
    {
     "name": "stdout",
     "output_type": "stream",
     "text": [
      "['apple', 'banana', 'orange', 'grape', 'kiwi']\n",
      "\n",
      "('january', 'february', 'march')\n"
     ]
    }
   ],
   "source": [
    "### Task_3a. Create a list called \"fruits\" containing the following fruits: \"apple,\" \"banana,\" \"orange,\" \"grape,\" and \"kiwi.\" \n",
    "# Print the list.\n",
    "fruits = [\"apple\", \"banana\", \"orange\", \"grape\", \"kiwi\"]\n",
    "print(fruits)\n",
    "print()\n",
    "# Task 3_b. Create a tuple named \"months\" with the names of the first three months of the year. Print the tuple.\n",
    "\n",
    "months= ('january', 'february', 'march')\n",
    "print(months)"
   ]
  },
  {
   "cell_type": "code",
   "execution_count": 33,
   "id": "e1af8a7b-23de-4771-8f96-93944454aa58",
   "metadata": {},
   "outputs": [
    {
     "name": "stdout",
     "output_type": "stream",
     "text": [
      "sum = 426\n",
      "average = 53.25\n",
      "['banana', 'orange', 'grape']\n"
     ]
    }
   ],
   "source": [
    "### Task_ 4a.  Given the list of numbers below, write a Python program to calculate the sum and average of these numbers. \n",
    "# Print both results. numbers = [12, 34, 45, 67, 89, 100, 23, 56]\n",
    "\n",
    "numbers = [12, 34, 45, 67, 89, 100, 23, 56]\n",
    "sum = 0\n",
    "for i in numbers:\n",
    "    sum += i\n",
    "average = sum / len(numbers)\n",
    "print('sum =',sum)\n",
    "print('average =', average)\n",
    "\n",
    "### Task_4b. Remove the first and last elements from the \"fruits\" list created earlier. Print the updated list.\n",
    "fruits = [\"apple\", \"banana\", \"orange\", \"grape\", \"kiwi\"]\n",
    "fruits = fruits[1:-1]\n",
    "print(fruits)\n"
   ]
  },
  {
   "cell_type": "code",
   "execution_count": 38,
   "id": "09a64e2f-54de-48ef-8cdc-204e273970ec",
   "metadata": {},
   "outputs": [
    {
     "name": "stdout",
     "output_type": "stream",
     "text": [
      "{'USA': 'Washinton', 'France': 'Paris', 'Japan': 'Tokyo'}\n",
      "updates capitals are: {'USA': 'Washinton', 'France': 'Paris', 'Japan': 'Tokyo', 'Germany': 'Berlin'}\n",
      "France is in the dictionary\n"
     ]
    }
   ],
   "source": [
    "### Task_5a.Create a dictionary named \"capitals\" with three key-value pairs: \"USA\" - \"Washington D.C.,\" \"France\" ,\"Paris,\" and \"Japan\" \n",
    "##- \"Tokyo.\" Print the dictionary.\n",
    "capitals = {'USA':'Washinton','France':'Paris','Japan':'Tokyo'}\n",
    "print(capitals)\n",
    "\n",
    "### Task_5b.  Add a new country and its capital to the \"capitals\" dictionary. The country is \"Germany,\" and the capital is \"Berlin.\" \n",
    "## Print the updated dictionary.\n",
    "capitals['Germany'] = 'Berlin'\n",
    "print('updates capitals are:', capitals)\n",
    "\n",
    "### Task_5c. Check if \"France\" exists in the \"capitals\" dictionary. If it does, print \"France is in the dictionary,\n",
    "## \" otherwise, print \"France is not in the dictionary.\" \n",
    "#(at the end of the lab notebook for session 1, I have added an example of how to use “in” in python).\n",
    "\n",
    "if 'France' in capitals:\n",
    "    print('France is in the dictionary')\n",
    "else:\n",
    "    print('France is not in the dictionary')"
   ]
  },
  {
   "cell_type": "code",
   "execution_count": 44,
   "id": "f4973c0e-3e9a-4816-a9c0-7be83fe287a9",
   "metadata": {},
   "outputs": [
    {
     "name": "stdin",
     "output_type": "stream",
     "text": [
      "Please Enter a Number 11\n"
     ]
    },
    {
     "name": "stdout",
     "output_type": "stream",
     "text": [
      "The Number is Odd\n"
     ]
    }
   ],
   "source": [
    "### Task_6a. Create a variable called number that takes user input (we studied the input() function). \n",
    "## Next, write a block of code that checks if the number is even or odd.\n",
    "number = int(input('Please Enter a Number'))\n",
    "if number%2 == 0:\n",
    "    print('The Number is Even')\n",
    "else:\n",
    "    print('The Number is Odd')"
   ]
  },
  {
   "cell_type": "code",
   "execution_count": 7,
   "id": "e5516cba-226d-4fa5-87b2-8c3a2fd60bda",
   "metadata": {},
   "outputs": [
    {
     "name": "stdin",
     "output_type": "stream",
     "text": [
      "Enter Age: 18\n",
      "Enter GPA on scale of 4.0 3.9\n"
     ]
    },
    {
     "name": "stdout",
     "output_type": "stream",
     "text": [
      "Eligible for Admission\n"
     ]
    }
   ],
   "source": [
    "### Task_6b.  Create two variables called age and GPA. Give them values of your choice.\n",
    "### Next, write a block of code to check if a student with this age and GPA is eligible for admission. \n",
    "### The following are the conditions:\n",
    "###   - The student must be at least 18 years old.\n",
    "##   - The student's GPA must be 3.0 or higher on a scale of 4.0.\n",
    "#   Your output should print “Eligible for admission” or “Not eligible for admission”.\n",
    "age = int(input('Enter Age:')) # enter age in integer value\n",
    "gpa = float(input('Enter GPA on scale of 4.0')) # enter gpa and convert it to float\n",
    "if age >= 18 and  3.0<= gpa <=4.0:  # applying conditions for admissions usind and operator so that both conditions are fulfilled\n",
    "    print('Eligible for Admission')\n",
    "else:\n",
    "    print('Not eligible for admission')"
   ]
  },
  {
   "cell_type": "code",
   "execution_count": 8,
   "id": "5b503b7c-ffaa-421c-acb7-fea7133c850f",
   "metadata": {},
   "outputs": [
    {
     "name": "stdout",
     "output_type": "stream",
     "text": [
      "Fruits set: {'grape', 'banana', 'orange', 'apple', 'kiwi'}\n"
     ]
    }
   ],
   "source": [
    "### Task_7a. Create a set named \"fruits_set\" containing the following fruits:\n",
    "## \"apple,\" \"banana,\" \"orange,\" \"grape,\" and \"kiwi.\" Print the set.\n",
    "# Create the set\n",
    "fruits_set = {\"apple\", \"banana\", \"orange\", \"grape\", \"kiwi\"}\n",
    "# Print the set\n",
    "print(\"Fruits set:\", fruits_set)\n"
   ]
  },
  {
   "cell_type": "code",
   "execution_count": 17,
   "id": "9af65b03-0ad9-439d-a94b-7c008a3880d5",
   "metadata": {},
   "outputs": [
    {
     "name": "stdout",
     "output_type": "stream",
     "text": [
      "union of set1 and set2: {1, 2, 3, 4, 5, 6, 7}\n",
      "intersection of set1 and set2: {3, 4, 5}\n",
      "difference of set1 and set2: {1, 2}\n",
      "set1 is not a subset of set2\n"
     ]
    }
   ],
   "source": [
    "### Task_7b. b) Given two sets: set1 = {1, 2, 3, 4, 5} and set2 = {3, 4, 5, 6, 7} Write Python code to perform the following operations and print the results:\n",
    "##  - Union of set1 and set2.  - Intersection of set1 and set2.\n",
    "#   - Difference between set1 and set2.  - Check if set1 is a subset of set2.\n",
    "set1 = {1, 2, 3, 4, 5}\n",
    "set2 = {3, 4, 5, 6, 7}\n",
    "\n",
    "union_set = set1 | set2 # union of two sets using | operator\n",
    "print('union of set1 and set2:', union_set)\n",
    "\n",
    "intersection_set = set1 & set2 # intersection of sets using & operator\n",
    "print('intersection of set1 and set2:', intersection_set)\n",
    "\n",
    "diff = set1 - set2 # finding difference of sets, elements which are present in set1 but not in set2\n",
    "print('difference of set1 and set2:', diff)\n",
    "\n",
    "if set1 <= set2: # checking whether all elements of set 1 are present/member of set2\n",
    "    print(\"set1 is a subset of set2\")\n",
    "else:\n",
    "    print(\"set1 is not a subset of set2\")"
   ]
  },
  {
   "cell_type": "code",
   "execution_count": 29,
   "id": "26e6d9c2-7c05-471a-9ef5-54ebe6a74e28",
   "metadata": {},
   "outputs": [
    {
     "name": "stdout",
     "output_type": "stream",
     "text": [
      "length of string is: 39\n",
      "PYTHON PROGRAMMING IS FUN AND POWERFUL!\n",
      "Python programming is exciting and powerful!\n",
      "string contains python: True\n",
      "string converted into list of words: ['Python', 'programming', 'is', 'fun', 'and', 'powerful!']\n"
     ]
    }
   ],
   "source": [
    "x =   \"Python programming is fun and powerful!\"\n",
    "\n",
    "print('length of string is:',len(x)) # printing length using ;len() function\n",
    "print(x.upper()) #printing string in uppercase letters\n",
    "print(x.replace('fun','exciting')) # replacing fun  with  exciting\n",
    "print('string contains python:','Python' in x) # checking Python word in string using in\n",
    "print('string converted into list of words:',x.split()) # converting string into list of words using split() function\n"
   ]
  },
  {
   "cell_type": "code",
   "execution_count": null,
   "id": "bf29c030-0aa8-47e0-b2c7-e8db6c5a3f11",
   "metadata": {},
   "outputs": [],
   "source": []
  }
 ],
 "metadata": {
  "kernelspec": {
   "display_name": "Python 3 (ipykernel)",
   "language": "python",
   "name": "python3"
  },
  "language_info": {
   "codemirror_mode": {
    "name": "ipython",
    "version": 3
   },
   "file_extension": ".py",
   "mimetype": "text/x-python",
   "name": "python",
   "nbconvert_exporter": "python",
   "pygments_lexer": "ipython3",
   "version": "3.11.7"
  }
 },
 "nbformat": 4,
 "nbformat_minor": 5
}
